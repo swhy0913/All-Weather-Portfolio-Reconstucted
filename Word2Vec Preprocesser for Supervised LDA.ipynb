{
 "cells": [
  {
   "cell_type": "code",
   "execution_count": 1,
   "id": "ea13b5b1",
   "metadata": {},
   "outputs": [],
   "source": [
    "import copy\n",
    "import gensim\n",
    "from gensim.models import Word2Vec\n",
    "import numpy as np\n",
    "import pandas as pd\n",
    "import requests\n",
    "import datetime\n",
    "import pickle\n",
    "import logging\n",
    "import seaborn as sns\n",
    "import matplotlib as plt\n",
    "from collections import Counter\n",
    "logging.basicConfig(format='%(asctime)s : %(levelname)s : %(message)s', level=logging.INFO)"
   ]
  },
  {
   "cell_type": "code",
   "execution_count": 2,
   "id": "244c4e76",
   "metadata": {},
   "outputs": [],
   "source": [
    "import time\n",
    "\n",
    "_start_time = time.time()\n",
    "\n",
    "def tic():\n",
    "    global _start_time \n",
    "    _start_time = time.time()\n",
    "\n",
    "def tac():\n",
    "    t_sec = round(time.time() - _start_time)\n",
    "    (t_min, t_sec) = divmod(t_sec,60)\n",
    "    (t_hour,t_min) = divmod(t_min,60) \n",
    "    print('Time passed: {}hour:{}min:{}sec'.format(t_hour,t_min,t_sec))"
   ]
  },
  {
   "cell_type": "code",
   "execution_count": null,
   "id": "f7b87696",
   "metadata": {},
   "outputs": [],
   "source": [
    "# Input Document Term Matrix\n",
    "def w2v(data_dtm):    \n",
    "    data = data_dtm.transpose()\n",
    "    top_dict = {}\n",
    "    for c in data.columns:\n",
    "        top = data[c].sort_values(ascending=False).head(30)\n",
    "        top_dict[c]= list(zip(top.index, top.values))\n",
    "    top_dict\n",
    "    # Look at the most common top words --> add them to the stop word list\n",
    "\n",
    "    # Let's first pull out the top 30 words in each transcripts\n",
    "    words = []\n",
    "    for timestamp in data.columns:\n",
    "        top = [word for (word, count) in top_dict[timestamp]]\n",
    "        for t in top:\n",
    "            words.append(t)\n",
    "\n",
    "    words\n",
    "    text = copy.copy(words)\n",
    "    text = [text]\n",
    "    # Expanding word window to 100 context words either side from target words can draw more logical word similarity results\n",
    "    \n",
    "    w2v_model = gensim.models.Word2Vec(sentences=text,\n",
    "                                   window=100, \n",
    "                                   min_count=1, \n",
    "                                   workers=4,\n",
    "                                    )\n",
    "    w2v_model.train(text, total_examples=w2v_model.corpus_count, epochs=50)\n",
    "    w2v_model.save(\"w2v.model\")\n",
    "    \n",
    "    #Growth Topic Word\n",
    "    sims1 = w2v_model.wv.most_similar(positive=['growth'], topn=50)  # get other similar words\n",
    "    sims2 = w2v_model.wv.most_similar(positive=['inflation'], topn=50)  # get other similar words\n",
    "    growth_df = pd.DataFrame(sims1, columns=[\"words\",\"similarity (%)\"])\n",
    "    inflation_df = pd.DataFrame(sims2, columns=[\"words\",\"similarity (%)\"])\n",
    "    vector1 = w2v_model.wv['growth']  # get numpy vector of a word\n",
    "    print(\"Growth word has dimension of :\", len(vector1))\n",
    "    \n",
    "    ### Growth Dictionary Replacement\n",
    "    for i in growth_df['words']:\n",
    "    dtf_clean['lemmatized'].replace([i, 'growth'])\n",
    "    \n",
    "    for i in inflation_df['words']:\n",
    "    dtf_clean['lemmatized'].replace([i, 'inflation'])\n",
    "\n",
    "    # The cosine similarity of 'growth' and 'inflation'\n",
    "    w2v_model.wv.similarity(w1=\"growth\", w2=\"inflation\")\n",
    "    \n",
    "    # Pickle w2v replaced labelled words\n",
    "    dtf_clean.to_pickle(\"data_clean.pkl\")\n",
    "    \n",
    "    return dtf_clean\n",
    "    \n",
    "    "
   ]
  },
  {
   "cell_type": "code",
   "execution_count": null,
   "id": "97c611f4",
   "metadata": {
    "scrolled": true
   },
   "outputs": [],
   "source": [
    "# lda_model.print_topics()"
   ]
  }
 ],
 "metadata": {
  "kernelspec": {
   "display_name": "Python 3 (ipykernel)",
   "language": "python",
   "name": "python3"
  },
  "language_info": {
   "codemirror_mode": {
    "name": "ipython",
    "version": 3
   },
   "file_extension": ".py",
   "mimetype": "text/x-python",
   "name": "python",
   "nbconvert_exporter": "python",
   "pygments_lexer": "ipython3",
   "version": "3.9.15"
  }
 },
 "nbformat": 4,
 "nbformat_minor": 5
}
